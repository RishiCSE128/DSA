{
 "cells": [
  {
   "cell_type": "markdown",
   "id": "f7b7c4e1",
   "metadata": {},
   "source": [
    "# Two number sum \n",
    "Given a array, find the index of a pair of numbers that add up to a given sum. "
   ]
  },
  {
   "cell_type": "markdown",
   "id": "6e802c07",
   "metadata": {},
   "source": [
    "## Bruteforce Solution \n",
    "```\n",
    "use 2 pointers p1,p2\n",
    "1. p1:=0     // init p1\n",
    "2. while p1 < n-1{\n",
    "    3. p2:=p1+1  // set p2 as next to p1  \n",
    "    4. d = t - A[p1]  // calculate difference \n",
    "    5. while p2 < n{ \n",
    "            6. if A[p2] == d then return p1, p2  // if difference exists return pointers\n",
    "            7. p2++  // otherwise scan till the end of the array \n",
    "       }\n",
    "    8. p1++ // if no diff found, update P1 \n",
    "  } \n",
    "```\n"
   ]
  },
  {
   "cell_type": "code",
   "execution_count": 23,
   "id": "915eb8b3",
   "metadata": {},
   "outputs": [],
   "source": [
    "def pair_sum_bf(A,target):\n",
    "    for p1 in range(0,len(A)-1):\n",
    "        diff = target - A[p1] \n",
    "        print(f'P1 = {p1}, A[{p1}] = {A[p1]} , diff = {diff}')\n",
    "        for p2 in range(p1+1, len(A)):\n",
    "            print(f'\\t p2 = {p2}, A[{p2}] = {A[p2]}')\n",
    "            if A[p2] == diff:\n",
    "                print('\\t Found!')\n",
    "                return [p1,p2]\n",
    "    return []"
   ]
  },
  {
   "cell_type": "code",
   "execution_count": 25,
   "id": "675964a4",
   "metadata": {},
   "outputs": [],
   "source": [
    "A = [1,3,7,9,2]\n",
    "target = 11"
   ]
  },
  {
   "cell_type": "code",
   "execution_count": 26,
   "id": "a073d2d2",
   "metadata": {},
   "outputs": [
    {
     "name": "stdout",
     "output_type": "stream",
     "text": [
      "P1 = 0, A[0] = 1 , diff = 10\n",
      "\t p2 = 1, A[1] = 3\n",
      "\t p2 = 2, A[2] = 7\n",
      "\t p2 = 3, A[3] = 9\n",
      "\t p2 = 4, A[4] = 2\n",
      "P1 = 1, A[1] = 3 , diff = 8\n",
      "\t p2 = 2, A[2] = 7\n",
      "\t p2 = 3, A[3] = 9\n",
      "\t p2 = 4, A[4] = 2\n",
      "P1 = 2, A[2] = 7 , diff = 4\n",
      "\t p2 = 3, A[3] = 9\n",
      "\t p2 = 4, A[4] = 2\n",
      "P1 = 3, A[3] = 9 , diff = 2\n",
      "\t p2 = 4, A[4] = 2\n",
      "\t Found!\n"
     ]
    },
    {
     "data": {
      "text/plain": [
       "[3, 4]"
      ]
     },
     "execution_count": 26,
     "metadata": {},
     "output_type": "execute_result"
    }
   ],
   "source": [
    "pair_sum_bf(A,target)"
   ]
  },
  {
   "cell_type": "markdown",
   "id": "dee76514",
   "metadata": {},
   "source": [
    "Now lets add the boundary conditions\n"
   ]
  },
  {
   "cell_type": "code",
   "execution_count": 29,
   "id": "ebd6e4ca",
   "metadata": {},
   "outputs": [],
   "source": [
    "def pair_sum_bf(A,target):\n",
    "    if len(A) == 0:    #empty array\n",
    "        return []\n",
    "    elif len(A) == 1: #singliton array\n",
    "        return []\n",
    "    else:\n",
    "        for p1 in range(0,len(A)-1):\n",
    "            diff = target - A[p1] \n",
    "            print(f'P1 = {p1}, A[{p1}] = {A[p1]} , diff = {diff}')\n",
    "            for p2 in range(p1+1, len(A)):\n",
    "                print(f'\\t p2 = {p2}, A[{p2}] = {A[p2]}')\n",
    "                if A[p2] == diff:\n",
    "                    print('\\t Found!')\n",
    "                    return [p1,p2]\n",
    "        return []"
   ]
  },
  {
   "cell_type": "code",
   "execution_count": 56,
   "id": "b6726d5e",
   "metadata": {},
   "outputs": [
    {
     "name": "stdout",
     "output_type": "stream",
     "text": [
      "P1 = 0, A[0] = 1 , diff = 10\n",
      "\t p2 = 1, A[1] = 3\n",
      "\t p2 = 2, A[2] = 7\n",
      "\t p2 = 3, A[3] = 9\n",
      "\t p2 = 4, A[4] = 2\n",
      "P1 = 1, A[1] = 3 , diff = 8\n",
      "\t p2 = 2, A[2] = 7\n",
      "\t p2 = 3, A[3] = 9\n",
      "\t p2 = 4, A[4] = 2\n",
      "P1 = 2, A[2] = 7 , diff = 4\n",
      "\t p2 = 3, A[3] = 9\n",
      "\t p2 = 4, A[4] = 2\n",
      "P1 = 3, A[3] = 9 , diff = 2\n",
      "\t p2 = 4, A[4] = 2\n",
      "\t Found!\n"
     ]
    },
    {
     "data": {
      "text/plain": [
       "[3, 4]"
      ]
     },
     "execution_count": 56,
     "metadata": {},
     "output_type": "execute_result"
    }
   ],
   "source": [
    "pair_sum_bf(A,target)"
   ]
  },
  {
   "cell_type": "markdown",
   "id": "00d6e755",
   "metadata": {},
   "source": [
    "Lets test the boundary conditions "
   ]
  },
  {
   "cell_type": "code",
   "execution_count": 57,
   "id": "7bb4d4fe",
   "metadata": {},
   "outputs": [
    {
     "data": {
      "text/plain": [
       "[]"
      ]
     },
     "execution_count": 57,
     "metadata": {},
     "output_type": "execute_result"
    }
   ],
   "source": [
    "A = []\n",
    "target = 11\n",
    "pair_sum_bf(A,target)"
   ]
  },
  {
   "cell_type": "code",
   "execution_count": 32,
   "id": "a065fb15",
   "metadata": {},
   "outputs": [
    {
     "data": {
      "text/plain": [
       "[]"
      ]
     },
     "execution_count": 32,
     "metadata": {},
     "output_type": "execute_result"
    }
   ],
   "source": [
    "A = [11]\n",
    "target = 11\n",
    "pair_sum_bf(A,target)"
   ]
  },
  {
   "cell_type": "markdown",
   "id": "9e543feb",
   "metadata": {},
   "source": [
    "## Optimization\n",
    "* The bruteforce solution is $O(n^2)$\n",
    "* Problem of repeated lookups are often solved by a Hashmap. lookingup of a hashmap is $O(1)\n"
   ]
  },
  {
   "cell_type": "code",
   "execution_count": 47,
   "id": "d764ffb6",
   "metadata": {},
   "outputs": [],
   "source": [
    "def pair_sum_opt(A, target):\n",
    "    if len(A) == 0:\n",
    "        return []\n",
    "    elif len(A) == 1:\n",
    "        return []\n",
    "    else:\n",
    "        hash_map = {} # init with empty dict \n",
    "        for p in range(len(A)): # for pointer to all elem : O(n)\n",
    "            print(f'p={p} , A[p]={A[p]}, \\n map={hash_map}')\n",
    "            diff = target - A[p] \n",
    "            if A[p] not in hash_map.keys(): # if pointed element not in map\n",
    "                hash_map[diff] = p  # create {diff : p}, difference for which pointer\n",
    "            else:      # if in map\n",
    "                return [ p,hash_map[ A[p] ] ] # return poiner, value at map entry keyed by pointed value\n",
    "        return []"
   ]
  },
  {
   "cell_type": "code",
   "execution_count": 54,
   "id": "4f505d27",
   "metadata": {},
   "outputs": [
    {
     "name": "stdout",
     "output_type": "stream",
     "text": [
      "Wall time: 0 ns\n",
      "p=0 , A[p]=1, \n",
      " map={}\n",
      "p=1 , A[p]=3, \n",
      " map={10: 0}\n",
      "p=2 , A[p]=7, \n",
      " map={10: 0, 8: 1}\n",
      "p=3 , A[p]=9, \n",
      " map={10: 0, 8: 1, 4: 2}\n",
      "p=4 , A[p]=2, \n",
      " map={10: 0, 8: 1, 4: 2, 2: 3}\n"
     ]
    },
    {
     "data": {
      "text/plain": [
       "[4, 3]"
      ]
     },
     "execution_count": 54,
     "metadata": {},
     "output_type": "execute_result"
    }
   ],
   "source": [
    "A = [1,3,7,9,2]\n",
    "target = 11\n",
    "pair_sum_opt(A, target)"
   ]
  },
  {
   "cell_type": "code",
   "execution_count": 49,
   "id": "72d189fc",
   "metadata": {},
   "outputs": [
    {
     "data": {
      "text/plain": [
       "[]"
      ]
     },
     "execution_count": 49,
     "metadata": {},
     "output_type": "execute_result"
    }
   ],
   "source": [
    "A = []\n",
    "target = 11\n",
    "pair_sum_opt(A, target)"
   ]
  },
  {
   "cell_type": "code",
   "execution_count": 50,
   "id": "c1c08fd1",
   "metadata": {},
   "outputs": [
    {
     "data": {
      "text/plain": [
       "[]"
      ]
     },
     "execution_count": 50,
     "metadata": {},
     "output_type": "execute_result"
    }
   ],
   "source": [
    "A = [11]\n",
    "target = 11\n",
    "pair_sum_opt(A, target)"
   ]
  },
  {
   "cell_type": "code",
   "execution_count": null,
   "id": "4137a5a7",
   "metadata": {},
   "outputs": [],
   "source": []
  }
 ],
 "metadata": {
  "kernelspec": {
   "display_name": "Python 3",
   "language": "python",
   "name": "python3"
  },
  "language_info": {
   "codemirror_mode": {
    "name": "ipython",
    "version": 3
   },
   "file_extension": ".py",
   "mimetype": "text/x-python",
   "name": "python",
   "nbconvert_exporter": "python",
   "pygments_lexer": "ipython3",
   "version": "3.8.8"
  }
 },
 "nbformat": 4,
 "nbformat_minor": 5
}
