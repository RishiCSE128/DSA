{
 "cells": [
  {
   "cell_type": "markdown",
   "metadata": {},
   "source": [
    "# 1. Three number sum\n",
    "\n",
    "## 1.1. Brute Force Solution\n",
    "\n",
    "The simpliest solution is the three nested for loops which costs $O(n^3)$ time.  Notice the looping ranges, at the final iteration, the value of the indices will be $i=n-3$ , $j=n-2$ and $k=n-1$. as the Python `range(x,y)` command ranges $[x: y-1]$ therefore,\n",
    "* for $i : y-1 = n-3 \\rightarrow y=n-2$  \n",
    "* for $j : y-1 = n-2 \\rightarrow y=n-1$\n",
    "* for $k : y-1 = n-1 \\rightarrow y=n$    "
   ]
  },
  {
   "cell_type": "code",
   "execution_count": 2,
   "metadata": {},
   "outputs": [],
   "source": [
    "# three num sum brute force\n",
    "def three_sum_bf(arr, target):\n",
    "    ret = []\n",
    "    n = len(arr)\n",
    "    # at the last iteration i=n-3, j=n-2 and k=n-1\n",
    "    for i in range(n-2):\n",
    "        for j in range(i+1, n-1):\n",
    "            for k in range(j+1, n):\n",
    "                if arr[i]+arr[j]+arr[k] == target:\n",
    "                    ret.append([ arr[i],arr[j],arr[k] ] )\n",
    "    return ret"
   ]
  },
  {
   "cell_type": "code",
   "execution_count": 3,
   "metadata": {},
   "outputs": [
    {
     "name": "stdout",
     "output_type": "stream",
     "text": [
      "[[3, 5, -8], [1, -6, 5], [2, -8, 6]]\n"
     ]
    }
   ],
   "source": [
    "arr = [12,3,1,2,-6,5,-8,6]\n",
    "target =0 \n",
    "result = three_sum_bf(arr, target)\n",
    "print(result)"
   ]
  },
  {
   "cell_type": "markdown",
   "metadata": {},
   "source": [
    "## 1.2. Optimal Soluition\n",
    "\n",
    "The optimal solution is a bit non-trivial. The core logic is as follows,\n",
    "1. if $a_i + a_j + a_k = t$ then $t - a_i = a_j + a_k$ which could be assumed as $r_i = s_{i,j}$, where $r_i$ is the remainder w.r.t. $a_i$ and $s_{i,j}$ is the sum. \n",
    "2. If $A$ is sorted then the $(a_j,a_k)$ pair can be found in linear time based on the follwoing conditions..\n",
    "$$\\begin{equation}\n",
    "  r_i =\n",
    "    \\begin{cases}\n",
    "      \\lt s_{ij} & \\text{decrese $s_{i,j}$ using moving $j$ to left }\\\\\n",
    "      \\gt s_{ij} & \\text{increse $s_{i,j}$ using moving $i$ to right }\\\\\n",
    "      = s_{ij} & \\text{match found, append $[a_i,a_j,a_k]$ and move both $i$ and $j$}\n",
    "    \\end{cases}       \n",
    "\\end{equation}$$\n",
    "3. the $a_i$ will scan the array in $O(n)$ time. For each iteration the remiander array needs to be scanned in $O(n)$ time, as each time either or both the pointer moves and in liniear time they'll meet which will break the inner loop.\n",
    "\n",
    "__Complexity analyis__\n",
    "\n",
    "| Task | Cost |\n",
    "|---|---|\n",
    "| Sorting | $O(nlog(n))$ |\n",
    "| Outer loop | $O(n)$ |\n",
    "|Inner loop | $O(n)$ |\n",
    "|Total | $T(n) = O(nlogn + n^2) = O(n^2)$ <br> $S(n) = O(n)$|\n"
   ]
  },
  {
   "cell_type": "code",
   "execution_count": 4,
   "metadata": {},
   "outputs": [],
   "source": [
    "# three number sum optimal solutions\n",
    "def three_sum(arr, target):\n",
    "    arr = sorted(arr)   # sort the array\n",
    "    n = len(arr)\n",
    "    ret = []\n",
    "    for i in range(n-2):\n",
    "        remainder = target - arr[i]    # calculate r_i\n",
    "        # set window \n",
    "        j = i+1\n",
    "        k = n-1 \n",
    "        while j < k:    # windowing logic\n",
    "            part_sum = arr[j] + arr[k]  # calculate s_ij\n",
    "            if remainder < part_sum:\n",
    "                j-=1\n",
    "            elif remainder > part_sum:\n",
    "                i+=1\n",
    "            else:      #match found \n",
    "                ret.append( [arr[i], arr[j], arr[k] ])\n",
    "                i+=1\n",
    "                j-=1\n",
    "    return ret"
   ]
  },
  {
   "cell_type": "code",
   "execution_count": 5,
   "metadata": {},
   "outputs": [
    {
     "name": "stdout",
     "output_type": "stream",
     "text": [
      "[[3, 5, -8], [1, -6, 5], [2, -8, 6]]\n"
     ]
    }
   ],
   "source": [
    "arr = [12,3,1,2,-6,5,-8,6]\n",
    "target =0 \n",
    "result = three_sum_bf(arr, target)\n",
    "print(result)"
   ]
  },
  {
   "cell_type": "markdown",
   "metadata": {},
   "source": []
  },
  {
   "cell_type": "markdown",
   "metadata": {},
   "source": [
    "# 2. Smallest Differrece \n",
    "\n",
    "Given two array $A$, $B$ of iniitegers (perhaps different sizes), find the pair $a_i \\in , b_j \\in B$, such that, $|a_i - b_j|$ is minimum. "
   ]
  },
  {
   "cell_type": "markdown",
   "metadata": {},
   "source": [
    "## 2.1. Brute Force Solution\n",
    "The Brute force solution is straight forward. \n",
    "1. Search all pairs of numbers $(a_i,b_j)$ from $A$ and $B$ \n",
    "2. Compare $|a_i - b_j|$ with a presumed min and maintain the min pair\n",
    "3. Return the min pair\n",
    "\n",
    "However, the solution is an quadratic time, $O(n^2)$ solution. "
   ]
  },
  {
   "cell_type": "code",
   "execution_count": 8,
   "metadata": {},
   "outputs": [],
   "source": [
    "def smallest_diff_bf(arr_1, arr_2):\n",
    "    global_diff = None\n",
    "    ret = [None]*2\n",
    "    for i in range(len(arr_1)):\n",
    "        for j in range(len(arr_2)):\n",
    "            local_diff = abs(arr_1[i] - arr_2[j]) \n",
    "            if global_diff == None or (global_diff is not None and local_diff < global_diff):\n",
    "                global_diff = local_diff\n",
    "                ret = [arr_1[i], arr_2[j]]\n",
    "    return ret\n"
   ]
  },
  {
   "cell_type": "code",
   "execution_count": 9,
   "metadata": {},
   "outputs": [
    {
     "data": {
      "text/plain": [
       "[28, 26]"
      ]
     },
     "execution_count": 9,
     "metadata": {},
     "output_type": "execute_result"
    }
   ],
   "source": [
    "arr_1 = [-1,5,10,20,28,3]\n",
    "arr_2 = [26,134,135,15,17]\n",
    "smallest_diff_bf(arr_1, arr_2)"
   ]
  },
  {
   "cell_type": "markdown",
   "metadata": {},
   "source": [
    "## 2.2. Optimal Solution \n",
    "There are two optimal solutions for these, that can solve it in $T(n) = O(nlogn) , S(n)=O(1)$\n",
    "\n",
    "### 2.2.1. Modefied Bineary Search\n",
    "* Here we use a modefied binary search logic to find the closest number to each item from $A$ in $B$. \n",
    "* Each search takes $O(\\log(|B|)))$ time for $|A|$ elements and $O(m\\log(m))$ for sorting B to perform binary search, i.e., $n\\log(m) + m\\log(m) = O(n\\log(n))$ \n",
    "* The modification is, if the target is found it's returned as usual, otherwise the closest element is returned. "
   ]
  },
  {
   "cell_type": "code",
   "execution_count": 12,
   "metadata": {},
   "outputs": [],
   "source": [
    "def find_closest(arr, target, l, h):    # modefied binary search (heelper function)\n",
    "    m = (l+h) //2 # find mid position \n",
    "    if arr[m] == target:\n",
    "        return target\n",
    "    # mod starts here\n",
    "    elif (h-l) == 1:\n",
    "        if abs(target - arr[l]) < abs(target - arr[h]):   #return closest \n",
    "            return arr[l]\n",
    "        else:\n",
    "            return arr[h]\n",
    "    # mod ends here \n",
    "    elif target < arr[m]:    # target on the left\n",
    "        return find_closest(arr, target, l, m)\n",
    "    elif target > arr[m]:    # target on the right\n",
    "        return find_closest(arr, target, m, h)\n",
    "    else:\n",
    "        pass\n",
    "\n",
    "def smallest_diff(arr_1, arr_2):\n",
    "    arr_2 = sorted(arr_2)  # O(nlogn)\n",
    "    global_min = None\n",
    "    ret = [None]*2\n",
    "\n",
    "    for item_1 in arr_1:    # O(n)\n",
    "        item_2 = find_closest(arr=arr_2, target=item_1, l=0, h=len(arr_2)) # O(logn)\n",
    "        local_min = abs(item_2 - item_1)\n",
    "        if global_min == None or (global_min is not None and global_min > local_min):\n",
    "            global_min = local_min\n",
    "            ret = [item_1, item_2]\n",
    "    return ret"
   ]
  },
  {
   "cell_type": "code",
   "execution_count": 11,
   "metadata": {},
   "outputs": [
    {
     "data": {
      "text/plain": [
       "[28, 26]"
      ]
     },
     "execution_count": 11,
     "metadata": {},
     "output_type": "execute_result"
    }
   ],
   "source": [
    "arr_1 = [-1,5,10,20,28,3]\n",
    "arr_2 = [26,134,135,15,17]\n",
    "smallest_diff(arr_1, arr_2)"
   ]
  },
  {
   "cell_type": "markdown",
   "metadata": {},
   "source": [
    "# 3. Selective Shift \n",
    "\n",
    "Given an array on integers $A$ and a value $v$, write a program that shifts all the occurance of $v$ to left in-place."
   ]
  },
  {
   "cell_type": "markdown",
   "metadata": {},
   "source": [
    "## 3.1. Buteforce: (pop and append)\n",
    "\n",
    "A simplistic approach is to scan through the array and remove elements when $v$ is encountered and append it at the end. However, it has two issues.\n",
    "1. It's not a in-place tranformation \n",
    "2. Mutating lists is time consuming as each delete opeation casuses a series of left-shifts of the RHS elements.   "
   ]
  },
  {
   "cell_type": "code",
   "execution_count": 35,
   "metadata": {},
   "outputs": [],
   "source": [
    "def shift_right_bf(arr, val):\n",
    "    current_index = 0\n",
    "    limit = len(arr)\n",
    "    while current_index < limit:\n",
    "        print(f'ci={current_index}, lim={limit}, arr={arr}')\n",
    "        if arr[current_index] == val:\n",
    "            arr.append(arr.pop(current_index)) # changes the index, hard to maintain\n",
    "            limit-=1\n",
    "        else: \n",
    "            current_index+=1\n",
    "    return arr"
   ]
  },
  {
   "cell_type": "code",
   "execution_count": 36,
   "metadata": {},
   "outputs": [
    {
     "name": "stdout",
     "output_type": "stream",
     "text": [
      "ci=0, lim=8, arr=[2, 1, 2, 2, 2, 3, 4, 2]\n",
      "ci=0, lim=7, arr=[1, 2, 2, 2, 3, 4, 2, 2]\n",
      "ci=1, lim=7, arr=[1, 2, 2, 2, 3, 4, 2, 2]\n",
      "ci=1, lim=6, arr=[1, 2, 2, 3, 4, 2, 2, 2]\n",
      "ci=1, lim=5, arr=[1, 2, 3, 4, 2, 2, 2, 2]\n",
      "ci=1, lim=4, arr=[1, 3, 4, 2, 2, 2, 2, 2]\n",
      "ci=2, lim=4, arr=[1, 3, 4, 2, 2, 2, 2, 2]\n",
      "ci=3, lim=4, arr=[1, 3, 4, 2, 2, 2, 2, 2]\n"
     ]
    },
    {
     "data": {
      "text/plain": [
       "[1, 3, 4, 2, 2, 2, 2, 2]"
      ]
     },
     "execution_count": 36,
     "metadata": {},
     "output_type": "execute_result"
    }
   ],
   "source": [
    "arr = [2,1,2,2,2,3,4,2]\n",
    "val = 2\n",
    "shift_right_bf(arr, val)"
   ]
  },
  {
   "cell_type": "markdown",
   "metadata": {},
   "source": [
    "## 3.2. Optimal Solutins\n",
    "\n",
    "The optimal solution works on the follwing logic. If the we take two poiners $i$ and $j$ initialized at the left and the right extremes of $A$, and follows the primitive windowing logic that $i\\lt j$. Then, there could be four possible occurances\n",
    "\n",
    "| i | j | Situation | operation |\n",
    "|--|--|--|--|\n",
    "| $=v$ | $=v$ | $i$ wants to move but $j$ can't have it | look for next $j$ ($j--$) |\n",
    "| $=v$ | $\\neq v$ | $i$ wants to move but $j$ can have it | swap $a_i,a_j$ then shift both $i$ and $j$|\n",
    "| $\\neq v$ | $=v$ | $i$ doesn't want to move but $j$ can't have it | look for next $i$ and $j$ ($i++ , j--$) |\n",
    "| $\\neq v$ | $\\neq v$ | $i$ doesm't want to move but $j$ can have it | look for next $i$ ($j++$) |\n"
   ]
  },
  {
   "cell_type": "code",
   "execution_count": 28,
   "metadata": {},
   "outputs": [],
   "source": [
    "def shift_right(arr, val):\n",
    "    i = 0\n",
    "    j = len(arr)-1\n",
    "    while i < j:\n",
    "        print(arr)\n",
    "        if arr[i] == val:   # i wants to send\n",
    "            if arr[j] == val:   # j doesn't want to receive \n",
    "                j-=1\n",
    "            else:               # j wants to receive             \n",
    "                arr[i],arr[j] = arr[j], arr[i]\n",
    "                i+=1\n",
    "                j-=1  \n",
    "        else:               # i doesn't want to send\n",
    "            if arr[j] == val:   # j doesn't want to receive \n",
    "                i+=1\n",
    "                j-=1\n",
    "            else:               # j wants to receive  \n",
    "                i+=1\n",
    "    return arr"
   ]
  },
  {
   "cell_type": "code",
   "execution_count": 29,
   "metadata": {},
   "outputs": [
    {
     "name": "stdout",
     "output_type": "stream",
     "text": [
      "[2, 1, 2, 2, 2, 3, 4, 2]\n",
      "[2, 1, 2, 2, 2, 3, 4, 2]\n",
      "[4, 1, 2, 2, 2, 3, 2, 2]\n",
      "[4, 1, 2, 2, 2, 3, 2, 2]\n",
      "[4, 1, 3, 2, 2, 2, 2, 2]\n"
     ]
    },
    {
     "data": {
      "text/plain": [
       "[4, 1, 3, 2, 2, 2, 2, 2]"
      ]
     },
     "execution_count": 29,
     "metadata": {},
     "output_type": "execute_result"
    }
   ],
   "source": [
    "arr = [2,1,2,2,2,3,4,2]\n",
    "val = 2\n",
    "shift_right(arr, val)"
   ]
  },
  {
   "cell_type": "markdown",
   "metadata": {},
   "source": [
    "# 4. Monotonic Array\n",
    "\n",
    "An array $A$ is said to be monotonic if $i \\lt j \\implies a_i \\le a_j$ where $i,j$ are the indices and $a_i,a_j \\in A$. Given an array $A$ determine if $A$ is monotonic or not, i.e., $f:A \\rightarrow \\{ T,F\\}$\n",
    "\n",
    "__Points to remember__\n",
    "1. A monotonic array perhaps not be a _Strictly Monotonic_ Array.\n",
    "2. A repeating array e.g. `[1,1,1,1]` is also monotonic but not strictly monotonic.\n",
    "3. A monotonic array could be either monotonic increasing or decreasing but not both ot a flat one. \n",
    "\n",
    "__Logic__\n",
    "1. Scan for each consicutive elements from left to right. there could be three conditions\n",
    "    * $a_i \\lt a_{i+1}$ : monotonic decresing, all next pairs should be mono. dec.\n",
    "    * $a_i \\gt a_{i+1}$ : monotonic increasing, all next pairs should be mono. inc. \n",
    "    * $a_i = a_{i+1}$ : flat, look for next pair \n",
    "2. In each case if a pair violates the pattern, return False \n",
    "3. Return true at the end  \n"
   ]
  },
  {
   "cell_type": "code",
   "execution_count": 37,
   "metadata": {},
   "outputs": [],
   "source": [
    "def isMonotonic(array):\n",
    "    # Write your code here.\n",
    "\tn = len(array)\n",
    "\ti=0\n",
    "\twhile i < n-1:   \n",
    "\t\tj = i+1\n",
    "\t\tif array[i] == array[j]: # not dicidable \n",
    "\t\t\ti+=1\n",
    "\t\telif array[i] < array[j]:  # mono inc.\n",
    "\t\t\twhile j < n:\n",
    "\t\t\t\tif array[i] > array[j]: # mono inc violation \n",
    "\t\t\t\t\treturn False\n",
    "\t\t\t\ti+=1 ; j+=1\n",
    "\t\telif array[i] > array[j]:  # mono dec.\n",
    "\t\t\twhile j < n:\n",
    "\t\t\t\tif array[i] < array[j]: # mono dec violation \n",
    "\t\t\t\t\treturn False\n",
    "\t\t\t\ti+=1 ; j+=1\n",
    "\t\telse:\n",
    "\t\t\tpass\n",
    "\treturn True"
   ]
  },
  {
   "cell_type": "code",
   "execution_count": 38,
   "metadata": {},
   "outputs": [
    {
     "data": {
      "text/plain": [
       "True"
      ]
     },
     "execution_count": 38,
     "metadata": {},
     "output_type": "execute_result"
    }
   ],
   "source": [
    "arr = [-1, -5 , -10 , -1100, -1100, -1101, -1102, -9001]  \n",
    "isMonotonic(arr)"
   ]
  },
  {
   "cell_type": "markdown",
   "metadata": {},
   "source": [
    "# 5. Longest Peak\n",
    " \n",
    " A peak is defined as adjacenct integers in an array that are __strictly__ monotonic increasing upto a point and __strictly__ decreaing affterwards. The length of the peack is the sum of the length of its LHS and RHS. <br>\n",
    " Given an array of integer return the length of the longest peack. \n",
    "\n",
    "__Logic__\n",
    "1. The first and land items i.e., $a_0$ and $a_{n-1}$ can't be a peack, as they don't have both the sides. \n",
    "2. Find a value within $A[1:(n-2)]$ which is a peak, i.e. $a_{i-1} \\lt a_i \\lt a_{i+1}$\n",
    "3. Calculate the length of the strictly monotonic decresing LHS i.e. $L = A[i-l : i-1]$ for $a_i$ , and the same for the RHS i.e., $R = A[i+1 : i+r]$\n",
    "4. Calculate the run length of the peak $|L|+|R|+1$ and compare with a presumed $max$ \n",
    "5. Return the $max$   "
   ]
  },
  {
   "cell_type": "code",
   "execution_count": 39,
   "metadata": {},
   "outputs": [],
   "source": [
    "def longestPeak(array):\n",
    "    # Write your code here.\n",
    "\tn = len(array)\n",
    "\tglobal_len = None\n",
    "\tfor i in range(1,n-1):\n",
    "\t\tif array[i-1] < array[i] and array[i] > array[i+1]:   # peak check passed\n",
    "\t\t\tl=r=i # initialize left and right pointer \n",
    "\t\t\t# left scanning for mono dec len \n",
    "\t\t\twhile l > 0 and array[l-1] < array[l]:  # mono dec condition is valid\n",
    "\t\t\t\tl-=1\n",
    "\t\t\t# right scanning for mono dec len \n",
    "\t\t\twhile r < n-1  and  array[r+1] < array[r]:  # mono dec condition is valid \n",
    "\t\t\t\tr+=1\n",
    "\t\t\tlocal_len = (r-l+1)\n",
    "\t\t\tif global_len == None or (global_len is not None and global_len < local_len):\n",
    "\t\t\t\tglobal_len = local_len\n",
    "\tif global_len == None:\n",
    "\t\treturn 0\n",
    "\telse:\n",
    "\t\treturn global_len"
   ]
  },
  {
   "cell_type": "code",
   "execution_count": 40,
   "metadata": {},
   "outputs": [
    {
     "data": {
      "text/plain": [
       "6"
      ]
     },
     "execution_count": 40,
     "metadata": {},
     "output_type": "execute_result"
    }
   ],
   "source": [
    "arr = [1, 2, 3, 3, 4, 0, 10, 6, 5, -1, -3, 2, 3]\n",
    "longestPeak(arr)"
   ]
  },
  {
   "cell_type": "markdown",
   "metadata": {},
   "source": [
    "# 6. Array of Product\n",
    "\n",
    "Given a array $A = \\{a_i\\}$ produce a new array $B = \\{b_i | b_i = \\prod_{j=0 , j\\neq i}a_j\\}$ i.e. the elements of $B$ is the product of elements of $A$ except the corresponding element. <br>\n",
    "Perform the problem without using division. \n",
    "\n",
    "## 6.1. Bruteforce solution: calculate product and keep deviding\n",
    "The obvious solution to this problem is to calculate the product $p$ of the array $A$ and $b_i = \\frac{p}{a_i}$."
   ]
  },
  {
   "cell_type": "code",
   "execution_count": 43,
   "metadata": {},
   "outputs": [],
   "source": [
    "def arrayOfProducts_bf(array):\n",
    "    # Write your code here.\n",
    "\tp = 1\n",
    "\tfor i in array:\n",
    "\t\tp*=i\n",
    "\treturn [ int(p/i) for i in array ]"
   ]
  },
  {
   "cell_type": "code",
   "execution_count": 44,
   "metadata": {},
   "outputs": [
    {
     "data": {
      "text/plain": [
       "[8, 40, 10, 20]"
      ]
     },
     "execution_count": 44,
     "metadata": {},
     "output_type": "execute_result"
    }
   ],
   "source": [
    "arr = [5, 1, 4, 2]\n",
    "arrayOfProducts_bf(arr)"
   ]
  },
  {
   "cell_type": "markdown",
   "metadata": {},
   "source": [
    "However, the problem asked to accomplish the task without using division, because this solution will not work if there are multiple occurances of Zeros. "
   ]
  },
  {
   "cell_type": "code",
   "execution_count": 46,
   "metadata": {},
   "outputs": [
    {
     "name": "stdout",
     "output_type": "stream",
     "text": [
      "error\n"
     ]
    }
   ],
   "source": [
    "arr = [0, 0, 1, 2, 3, 4, 5, 6, 7, 8, 9]\n",
    "try:\n",
    "    print(arrayOfProducts_bf(arr))\n",
    "except:\n",
    "    print('error')\n"
   ]
  },
  {
   "cell_type": "markdown",
   "metadata": {},
   "source": [
    "# 6.2. Optimal Solution\n",
    "\n",
    "The optimal solution is not primitve, it works as follows. \n",
    "\n",
    "1. Calculate two temprary arrys $L$ and $R$ such that, \n",
    "    * $L$ contains the products of the elements of $A$ from left to right, i.e. $L = \\bigg  \\{l_{i+1} = l_{i}\\times a_i | l_0=1\\bigg\\}$ and \n",
    "    * $R$ contains from right to left $R = \\bigg\\{ r_{j-1} = r_{j}\\times a_j | r_{n-1}=1 \\bigg\\}$.\n",
    "2. element-wise product of $L$ and $R$ is $B$, i.e., $B=\\bigg\\{ b_i = l_i\\times r_i | l_i\\in L , r_i \\in R \\bigg\\}$"
   ]
  },
  {
   "cell_type": "code",
   "execution_count": 47,
   "metadata": {},
   "outputs": [],
   "source": [
    "def arrayOfProducts(array):\n",
    "    # Write your code here.\n",
    "\tn = len(array)\n",
    "\t\n",
    "\tL = [None]*n\n",
    "\tR = [None]*n\n",
    "\t\n",
    "\tlp = rp = 1\n",
    "\t\n",
    "\tfor i in range(n):\n",
    "\t\tL[i] = lp\n",
    "\t\tR[n-i-1] = rp\n",
    "\t\t\n",
    "\t\tlp *= array[i]\n",
    "\t\trp *= array[n-i-1]\n",
    "\t\t\n",
    "\treturn [ L[i]*R[i] for i in range(n) ]"
   ]
  },
  {
   "cell_type": "code",
   "execution_count": 48,
   "metadata": {},
   "outputs": [
    {
     "name": "stdout",
     "output_type": "stream",
     "text": [
      "[8, 40, 10, 20]\n",
      "[0, 0, 0, 0, 0, 0, 0, 0, 0, 0, 0]\n"
     ]
    }
   ],
   "source": [
    "arr = [5, 1, 4, 2]\n",
    "print(arrayOfProducts(arr))\n",
    "\n",
    "arr = [0, 0, 1, 2, 3, 4, 5, 6, 7, 8, 9]\n",
    "print(arrayOfProducts(arr))"
   ]
  },
  {
   "cell_type": "code",
   "execution_count": 49,
   "metadata": {},
   "outputs": [],
   "source": [
    "# 7. First Duplicate \n",
    "\n",
    "def firstDuplicateValue(array):\n",
    "    # Write your code here.\n",
    "\tfor item in array:\n",
    "\t\tidx = abs(item)\n",
    "\t\tif array[idx -1 ] < 0:\n",
    "\t\t\treturn idx\n",
    "\t\tarray[idx -1] *= -1\n",
    "\treturn -1"
   ]
  },
  {
   "cell_type": "code",
   "execution_count": null,
   "metadata": {},
   "outputs": [],
   "source": []
  }
 ],
 "metadata": {
  "interpreter": {
   "hash": "67225c7e36880c542173d48af519bca833c35c219bdf4dab9f5f705507d6a74f"
  },
  "kernelspec": {
   "display_name": "Python 3.8.8 64-bit ('base': conda)",
   "language": "python",
   "name": "python3"
  },
  "language_info": {
   "codemirror_mode": {
    "name": "ipython",
    "version": 3
   },
   "file_extension": ".py",
   "mimetype": "text/x-python",
   "name": "python",
   "nbconvert_exporter": "python",
   "pygments_lexer": "ipython3",
   "version": "3.8.8"
  },
  "orig_nbformat": 4
 },
 "nbformat": 4,
 "nbformat_minor": 2
}
