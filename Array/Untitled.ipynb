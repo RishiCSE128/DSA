{
 "cells": [
  {
   "cell_type": "markdown",
   "id": "836e3c50",
   "metadata": {},
   "source": [
    "# Two number sum \n",
    "Given a array, find the index of a pair of numbers that add up to a given sum. "
   ]
  },
  {
   "cell_type": "markdown",
   "id": "556a5582",
   "metadata": {},
   "source": [
    "## Bruteforce Solution \n",
    "```\n",
    "use 2 pointers p1,p2\n",
    "1. p1:=0     // init p1\n",
    "2. while p1 < n-1{\n",
    "    3. p2:=p1+1  // set p2 as next to p1  \n",
    "    4. d = t - A[p1]  // calculate difference \n",
    "    5. while p2 < n{ \n",
    "            6. if A[p2] == d then return p1, p2  // if difference exists return pointers\n",
    "            7. p2++  // otherwise scan till the end of the array \n",
    "       }\n",
    "    8. p1++ // if no diff found, update P1 \n",
    "  } \n",
    "```\n"
   ]
  },
  {
   "cell_type": "code",
   "execution_count": 23,
   "id": "a4d2085c",
   "metadata": {},
   "outputs": [],
   "source": [
    "def pair_sum_bf(A,target):\n",
    "    for p1 in range(0,len(A)-1):\n",
    "        diff = target - A[p1] \n",
    "        print(f'P1 = {p1}, A[{p1}] = {A[p1]} , diff = {diff}')\n",
    "        for p2 in range(p1+1, len(A)):\n",
    "            print(f'\\t p2 = {p2}, A[{p2}] = {A[p2]}')\n",
    "            if A[p2] == diff:\n",
    "                print('\\t Found!')\n",
    "                return [p1,p2]\n",
    "    return []"
   ]
  },
  {
   "cell_type": "code",
   "execution_count": 25,
   "id": "e0f63ed0",
   "metadata": {},
   "outputs": [],
   "source": [
    "A = [1,3,7,9,2]\n",
    "target = 11"
   ]
  },
  {
   "cell_type": "code",
   "execution_count": 26,
   "id": "c8b46ef1",
   "metadata": {},
   "outputs": [
    {
     "name": "stdout",
     "output_type": "stream",
     "text": [
      "P1 = 0, A[0] = 1 , diff = 10\n",
      "\t p2 = 1, A[1] = 3\n",
      "\t p2 = 2, A[2] = 7\n",
      "\t p2 = 3, A[3] = 9\n",
      "\t p2 = 4, A[4] = 2\n",
      "P1 = 1, A[1] = 3 , diff = 8\n",
      "\t p2 = 2, A[2] = 7\n",
      "\t p2 = 3, A[3] = 9\n",
      "\t p2 = 4, A[4] = 2\n",
      "P1 = 2, A[2] = 7 , diff = 4\n",
      "\t p2 = 3, A[3] = 9\n",
      "\t p2 = 4, A[4] = 2\n",
      "P1 = 3, A[3] = 9 , diff = 2\n",
      "\t p2 = 4, A[4] = 2\n",
      "\t Found!\n"
     ]
    },
    {
     "data": {
      "text/plain": [
       "[3, 4]"
      ]
     },
     "execution_count": 26,
     "metadata": {},
     "output_type": "execute_result"
    }
   ],
   "source": [
    "pair_sum_bf(A,target)"
   ]
  },
  {
   "cell_type": "markdown",
   "id": "ec8219a2",
   "metadata": {},
   "source": [
    "Now lets add the boundary conditions\n"
   ]
  },
  {
   "cell_type": "code",
   "execution_count": 29,
   "id": "b52376a2",
   "metadata": {},
   "outputs": [],
   "source": [
    "def pair_sum_bf(A,target):\n",
    "    if len(A) == 0:    #empty array\n",
    "        return []\n",
    "    elif len(A) == 1: #singliton array\n",
    "        return []\n",
    "    else:\n",
    "        for p1 in range(0,len(A)-1):\n",
    "            diff = target - A[p1] \n",
    "            print(f'P1 = {p1}, A[{p1}] = {A[p1]} , diff = {diff}')\n",
    "            for p2 in range(p1+1, len(A)):\n",
    "                print(f'\\t p2 = {p2}, A[{p2}] = {A[p2]}')\n",
    "                if A[p2] == diff:\n",
    "                    print('\\t Found!')\n",
    "                    return [p1,p2]\n",
    "        return []"
   ]
  },
  {
   "cell_type": "code",
   "execution_count": 30,
   "id": "8ee58fac",
   "metadata": {},
   "outputs": [
    {
     "name": "stdout",
     "output_type": "stream",
     "text": [
      "P1 = 0, A[0] = 1 , diff = 10\n",
      "\t p2 = 1, A[1] = 3\n",
      "\t p2 = 2, A[2] = 7\n",
      "\t p2 = 3, A[3] = 9\n",
      "\t p2 = 4, A[4] = 2\n",
      "P1 = 1, A[1] = 3 , diff = 8\n",
      "\t p2 = 2, A[2] = 7\n",
      "\t p2 = 3, A[3] = 9\n",
      "\t p2 = 4, A[4] = 2\n",
      "P1 = 2, A[2] = 7 , diff = 4\n",
      "\t p2 = 3, A[3] = 9\n",
      "\t p2 = 4, A[4] = 2\n",
      "P1 = 3, A[3] = 9 , diff = 2\n",
      "\t p2 = 4, A[4] = 2\n",
      "\t Found!\n"
     ]
    },
    {
     "data": {
      "text/plain": [
       "[3, 4]"
      ]
     },
     "execution_count": 30,
     "metadata": {},
     "output_type": "execute_result"
    }
   ],
   "source": [
    "pair_sum_bf(A,target)"
   ]
  },
  {
   "cell_type": "markdown",
   "id": "cda7e151",
   "metadata": {},
   "source": [
    "Lets test the boundary conditions "
   ]
  },
  {
   "cell_type": "code",
   "execution_count": 31,
   "id": "1954f3a0",
   "metadata": {},
   "outputs": [
    {
     "data": {
      "text/plain": [
       "[]"
      ]
     },
     "execution_count": 31,
     "metadata": {},
     "output_type": "execute_result"
    }
   ],
   "source": [
    "A = []\n",
    "target = 11\n",
    "pair_sum_bf(A,target)"
   ]
  },
  {
   "cell_type": "code",
   "execution_count": 32,
   "id": "56602234",
   "metadata": {},
   "outputs": [
    {
     "data": {
      "text/plain": [
       "[]"
      ]
     },
     "execution_count": 32,
     "metadata": {},
     "output_type": "execute_result"
    }
   ],
   "source": [
    "A = [11]\n",
    "target = 11\n",
    "pair_sum_bf(A,target)"
   ]
  },
  {
   "cell_type": "code",
   "execution_count": null,
   "id": "02baadcb",
   "metadata": {},
   "outputs": [],
   "source": []
  }
 ],
 "metadata": {
  "kernelspec": {
   "display_name": "Python 3",
   "language": "python",
   "name": "python3"
  },
  "language_info": {
   "codemirror_mode": {
    "name": "ipython",
    "version": 3
   },
   "file_extension": ".py",
   "mimetype": "text/x-python",
   "name": "python",
   "nbconvert_exporter": "python",
   "pygments_lexer": "ipython3",
   "version": "3.8.8"
  }
 },
 "nbformat": 4,
 "nbformat_minor": 5
}
