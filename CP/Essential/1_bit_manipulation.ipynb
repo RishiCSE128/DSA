{
 "cells": [
  {
   "cell_type": "markdown",
   "metadata": {},
   "source": [
    "# Bit Manipulation\n",
    "\n",
    "* Modify data at the binary level. \n",
    "* Faster than integer/flaot operatons. \n",
    "* Operators \n",
    "    * __AND__: `&` => True if both are true\n",
    "    * __OR__: `|` => False if both are false\n",
    "    * __NOT__: `~` => True if false, vice versa \n",
    "    * __XOR__: `^` => false for identicaal input, true otherwise. \n",
    "    * __LShift__: `<<` => $n<<i = n2^i$ \n",
    "    * __RShift__: `>>`  => $n>>i = \\lfloor\\frac{n}{2^i}\\rfloor$"
   ]
  },
  {
   "cell_type": "markdown",
   "metadata": {},
   "source": [
    "# Examples "
   ]
  },
  {
   "cell_type": "code",
   "execution_count": 14,
   "metadata": {},
   "outputs": [
    {
     "name": "stdout",
     "output_type": "stream",
     "text": [
      "a=0b101, b=0b110\n",
      "-----------------------\n",
      "a & b = 4\n",
      "a | b = 7\n",
      "a ^ b = 3\n",
      "a>>1 = 2\n",
      "a<<1 = 10\n"
     ]
    }
   ],
   "source": [
    "# assigning arbitrary value \n",
    "a=5\n",
    "b=6\n",
    "\n",
    "print(f'a={bin(a)}, b={bin(b)}')  #binary representation of int\n",
    "print('-----------------------')\n",
    " \n",
    "print(f'a & b = { a & b}') # bw and\n",
    "print(f'a | b = { a | b}') # bw or\n",
    "print(f'a ^ b = { a ^ b}') # bw not\n",
    "print(f'a>>1 = { a>>1 }')  # left shift \n",
    "print(f'a<<1 = { a<<1 }')  # right shift "
   ]
  },
  {
   "cell_type": "markdown",
   "metadata": {},
   "source": [
    "# 1. Odd even Check \n",
    "\n",
    "* __Problem__: Write a function `is_odd(n)` that returns `True` if `n` is odd and `False` otherwise.  "
   ]
  },
  {
   "cell_type": "code",
   "execution_count": 20,
   "metadata": {},
   "outputs": [],
   "source": [
    "# solution \n",
    "def is_odd(n:int)->bool:\n",
    "    return True if n&1 == 1 else False  # all odd numbers has LSB=1"
   ]
  },
  {
   "cell_type": "code",
   "execution_count": 21,
   "metadata": {},
   "outputs": [
    {
     "name": "stdout",
     "output_type": "stream",
     "text": [
      "0 evnen\n",
      "1 odd\n",
      "2 evnen\n",
      "3 odd\n",
      "4 evnen\n",
      "5 odd\n",
      "6 evnen\n",
      "7 odd\n",
      "8 evnen\n",
      "9 odd\n"
     ]
    }
   ],
   "source": [
    "# Verify\n",
    "lim = 10 # verify for int [0:lim)\n",
    "for i in range(lim):\n",
    "    result = is_odd(i)\n",
    "    print(i,end=' ')\n",
    "    print('odd') if result == True else print('evnen')"
   ]
  },
  {
   "cell_type": "markdown",
   "metadata": {},
   "source": [
    "# 2. Bit Manipulation\n",
    "Three types of i-th bit-manipulation operation \n",
    "1. Get the i-th bit\n",
    "2. Set the i-th bit \n",
    "3. Clear the i-th bit"
   ]
  },
  {
   "cell_type": "markdown",
   "metadata": {},
   "source": [
    "## 2.1. Get the $i^{th}$ bit\n"
   ]
  },
  {
   "cell_type": "code",
   "execution_count": 24,
   "metadata": {},
   "outputs": [],
   "source": [
    "def get_ith_bit(n:int, i:int) -> bool:\n",
    "    \"\"\"Returns the ith bit of n\"\"\"\n",
    "    n>>i       # shift i position \n",
    "    return n&1 # return LSB "
   ]
  },
  {
   "cell_type": "code",
   "execution_count": 25,
   "metadata": {},
   "outputs": [
    {
     "name": "stdout",
     "output_type": "stream",
     "text": [
      "3-th bit of 27 (0b11011) = 1\n"
     ]
    }
   ],
   "source": [
    "n=27\n",
    "i=3\n",
    "\n",
    "print(f'{i}-th bit of {n} ({bin(n)}) = {get_ith_bit(n,i)}')"
   ]
  },
  {
   "cell_type": "markdown",
   "metadata": {},
   "source": [
    "## 2.2. Set $i^{th}$ bit "
   ]
  },
  {
   "cell_type": "code",
   "execution_count": 35,
   "metadata": {},
   "outputs": [],
   "source": [
    "def set_ith_bit(n:int, i:int) -> int:\n",
    "    \"return n by setting the i-th bit of it\"\n",
    "    mask = 1<<i   # 1 folloed by i 0s\n",
    "    return n|mask"
   ]
  },
  {
   "cell_type": "code",
   "execution_count": 36,
   "metadata": {},
   "outputs": [
    {
     "name": "stdout",
     "output_type": "stream",
     "text": [
      "before: 23 = 0b10111\n",
      "after:  31 = 0b11111\n"
     ]
    }
   ],
   "source": [
    "# test \n",
    "n = 23\n",
    "i = 3\n",
    "print(f'before: {n} = {bin(n)}')\n",
    "\n",
    "n = set_ith_bit(n,i)\n",
    "print(f'after:  {n} = {bin(n)}')"
   ]
  },
  {
   "cell_type": "markdown",
   "metadata": {},
   "source": [
    "##  2.3. Clear $i^{th}$ bit\n"
   ]
  },
  {
   "cell_type": "code",
   "execution_count": 37,
   "metadata": {},
   "outputs": [],
   "source": [
    "def clear_ith_bit(n:int, i:int)->int:\n",
    "    \"return n by clearing the i-th bit\"\n",
    "    mask = 1<<i\n",
    "    return n & ~(mask)"
   ]
  },
  {
   "cell_type": "code",
   "execution_count": 44,
   "metadata": {},
   "outputs": [
    {
     "name": "stdout",
     "output_type": "stream",
     "text": [
      "before: 23 = 0b10111\n",
      "after:  19 = 0b10011\n"
     ]
    }
   ],
   "source": [
    "# test \n",
    "n = 23\n",
    "i = 2\n",
    "print(f'before: {n} = {bin(n)}')\n",
    "\n",
    "n = clear_ith_bit(n,i)\n",
    "print(f'after:  {n} = {bin(n)}')"
   ]
  },
  {
   "cell_type": "markdown",
   "metadata": {},
   "source": [
    "# 3. Additional manipulations\n",
    "## 3.1. Update $i^{th}$ bit \n",
    "\n",
    "Update the i-th bit as per given value"
   ]
  },
  {
   "cell_type": "code",
   "execution_count": 45,
   "metadata": {},
   "outputs": [],
   "source": [
    "def update_ith_bit(n:int, i:int, val:bool) -> int:\n",
    "    \"\"\"return n by setting the its ith bit with value\"\"\"\n",
    "    mask = 1<<i # 1 followed by i 0s\n",
    "    return n | mask if val == True else n &  ~mask "
   ]
  },
  {
   "cell_type": "code",
   "execution_count": 48,
   "metadata": {},
   "outputs": [
    {
     "name": "stdout",
     "output_type": "stream",
     "text": [
      "42 = 0b101010\n",
      "after setting bit 0: 43 (0b101011)\n",
      "after clearing bit 3: 35 (0b100011)\n"
     ]
    }
   ],
   "source": [
    "n = 42\n",
    "i = 0   # pos to set\n",
    "j = 3   # pos to clear   \n",
    "\n",
    "print(f'{n} = {bin(n)}')\n",
    "\n",
    "n=update_ith_bit(n,i,True)\n",
    "print(f'after setting bit {i}: {n} ({bin(n)})')\n",
    "\n",
    "n=update_ith_bit(n,j,False)\n",
    "print(f'after clearing bit {j}: {n} ({bin(n)})')"
   ]
  },
  {
   "cell_type": "markdown",
   "metadata": {},
   "source": [
    "## 3.2. Clear the last $i$ bits "
   ]
  },
  {
   "cell_type": "code",
   "execution_count": 57,
   "metadata": {},
   "outputs": [],
   "source": [
    "def clear_last_i_bits(n:int,i:int)->int:\n",
    "    \"\"\"returns n by clearing its last i bits\"\"\"\n",
    "    return n & (~0<<i)   # ~0 = all 1, lshifted by i "
   ]
  },
  {
   "cell_type": "code",
   "execution_count": 58,
   "metadata": {},
   "outputs": [
    {
     "name": "stdout",
     "output_type": "stream",
     "text": [
      "n=0b1011101, i=4, result=0b1010000\n"
     ]
    }
   ],
   "source": [
    "n = 93\n",
    "i = 4\n",
    "\n",
    "result = clear_last_i_bits(n,i)\n",
    "print(f'n={bin(n)}, i={4}, result={bin(result)}')"
   ]
  },
  {
   "cell_type": "markdown",
   "metadata": {},
   "source": [
    "## 3.3. Clear a range of bits \n",
    "Clear the bits between indices $i$ and $j$. \n",
    "\n",
    "Soln:\n",
    "1. `-1`: all `1`\n",
    "2. `-1 << i+1` : clear all bits of all 1 bitstring from index `i` (`1...10...0`)\n",
    "3. `~(-1 << j)`: set the last `j` bits with leading `0` (`0...01...1`)\n",
    "4. `(-1 << i+1) | ~(-1 << j)` : only `[i:j]` window is cleared `1...10...01...1`"
   ]
  },
  {
   "cell_type": "code",
   "execution_count": 72,
   "metadata": {},
   "outputs": [],
   "source": [
    "def clear_range(n:int, i:int, j:int)-> int:\n",
    "    \"\"\" returns n by clearing bits between index i and j\"\"\"\n",
    "    if i > j:\n",
    "        mask = (-1 << i+1)|~(-1 << j)\n",
    "        return n & mask\n",
    "    raise Exception('IndexError') # call exeption if indices overlap"
   ]
  },
  {
   "cell_type": "code",
   "execution_count": 74,
   "metadata": {},
   "outputs": [
    {
     "name": "stdout",
     "output_type": "stream",
     "text": [
      "n=0b11111111, i=5, j=2, result=0b11000011\n"
     ]
    }
   ],
   "source": [
    "n = 255\n",
    "i = 5\n",
    "j = 2\n",
    "\n",
    "result = clear_range(n,i,j)\n",
    "\n",
    "print(f'n={bin(n)}, i={i}, j={j}, result={bin(result)}')"
   ]
  },
  {
   "cell_type": "markdown",
   "metadata": {},
   "source": [
    "## 3.4. Inset bit string between indices \n",
    "Insert bitstring $m$ within the indices $i$ and $j$ of $n$\n",
    "\n",
    "1. Clear the window $[i:j]$ of $n$ with _Clear Mask_ $CM$=`(-1 << (i+1)) | ~(-1 << j)`\n",
    "2. LShift $m$ by $j$ to allign, lets call it _Insert Mask_ $IM$ = `m<<j`\n",
    "3. Execute `(n & CM) | IM`\n"
   ]
  },
  {
   "cell_type": "code",
   "execution_count": 76,
   "metadata": {},
   "outputs": [],
   "source": [
    "def insert_bitstring(n:int, m:int, i:int, j:int)->int:\n",
    "    \"\"\"inserts m witin n at window [i,j]\n",
    "       assumes |m|=(i-j+1)\n",
    "    \"\"\"\n",
    "    clear_mask = (-1 << (i+1)) | ~(-1 << j)\n",
    "    insert_mask = m << j\n",
    "\n",
    "    return (n & clear_mask) | insert_mask\n",
    "    "
   ]
  },
  {
   "cell_type": "code",
   "execution_count": 80,
   "metadata": {},
   "outputs": [
    {
     "name": "stdout",
     "output_type": "stream",
     "text": [
      "n=0b111111111, m=0b101101, i=7, j=2, result=0b110110111\n"
     ]
    }
   ],
   "source": [
    "n = 511  \n",
    "m = 45\n",
    "i = 7\n",
    "j=2\n",
    "\n",
    "result = insert_bitstring(n,m,i,j)\n",
    "\n",
    "print(f'n={bin(n)}, m={bin(m)}, i={i}, j={j}, result={bin(result)}')"
   ]
  },
  {
   "cell_type": "code",
   "execution_count": null,
   "metadata": {},
   "outputs": [],
   "source": []
  }
 ],
 "metadata": {
  "kernelspec": {
   "display_name": "Python 3",
   "language": "python",
   "name": "python3"
  },
  "language_info": {
   "codemirror_mode": {
    "name": "ipython",
    "version": 3
   },
   "file_extension": ".py",
   "mimetype": "text/x-python",
   "name": "python",
   "nbconvert_exporter": "python",
   "pygments_lexer": "ipython3",
   "version": "3.11.6"
  }
 },
 "nbformat": 4,
 "nbformat_minor": 2
}
